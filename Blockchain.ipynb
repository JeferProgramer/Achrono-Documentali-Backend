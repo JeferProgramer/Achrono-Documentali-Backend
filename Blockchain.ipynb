{
  "nbformat": 4,
  "nbformat_minor": 0,
  "metadata": {
    "colab": {
      "provenance": [],
      "include_colab_link": true
    },
    "kernelspec": {
      "name": "python3",
      "display_name": "Python 3"
    },
    "language_info": {
      "name": "python"
    }
  },
  "cells": [
    {
      "cell_type": "markdown",
      "metadata": {
        "id": "view-in-github",
        "colab_type": "text"
      },
      "source": [
        "<a href=\"https://colab.research.google.com/github/JeferProgramer/Achrono-Documentali-Backend/blob/main/Blockchain.ipynb\" target=\"_parent\"><img src=\"https://colab.research.google.com/assets/colab-badge.svg\" alt=\"Open In Colab\"/></a>"
      ]
    },
    {
      "cell_type": "markdown",
      "source": [
        "## Ruta de acción\n",
        "\n",
        "Nos interesa generar una cadena de bloques:\n",
        "### 1. Bloque:\n",
        "- Atributos: indexación, timestamp, hash (conexión con el anterios, y el propio); nonce.\n",
        "- Métodos: calculo hash"
      ],
      "metadata": {
        "id": "etJOT4l0qGJ4"
      }
    },
    {
      "cell_type": "code",
      "source": [
        "import hashlib\n",
        "import time"
      ],
      "metadata": {
        "id": "CMd5XOZrp1XG"
      },
      "execution_count": null,
      "outputs": []
    },
    {
      "cell_type": "code",
      "source": [
        "class Block:\n",
        "    def __init__(self, index, timestamp, data, previous_hash):\n",
        "        self.index = index\n",
        "        self.timestamp = timestamp  # Puede ser un string o número\n",
        "        self.data = data            # Información que guarda el bloque (por ahora, texto o dict)\n",
        "        self.previous_hash = previous_hash\n",
        "        self.nonce = 0              # Número para prueba de trabajo (PoW)\n",
        "        self.hash = self.calculate_hash()\n",
        "\n",
        "    def calculate_hash(self):\n",
        "        block_string = f\"{self.index}{self.timestamp}{self.data}{self.previous_hash}{self.nonce}\"\n",
        "        return hashlib.sha256(block_string.encode()).hexdigest()\n"
      ],
      "metadata": {
        "id": "iX-TZoLJp1aR"
      },
      "execution_count": null,
      "outputs": []
    },
    {
      "cell_type": "markdown",
      "source": [
        "### 2. Construcción de la cadena de bloques\n",
        "\n",
        "- Atributos: lista de bloques (chain)\n",
        "- Métodos: crear el primer bloque (index = 0, previos_hase = NA), agregación de nuevos bloques, validación de la cadena (hashes)|."
      ],
      "metadata": {
        "id": "pzGdNYzQuvuM"
      }
    },
    {
      "cell_type": "code",
      "source": [
        "class Blockchain:\n",
        "    def __init__(self):\n",
        "        self.chain = [self.create_genesis_block()]  # La cadena es una lista de bloques\n",
        "\n",
        "    def create_genesis_block(self):\n",
        "        # Crea el primer bloque manualmente, porque no hay bloques previos\n",
        "        return Block(0, time.time(), \"Genesis Block\", \"0\")\n",
        "\n",
        "    def get_latest_block(self):\n",
        "        # Devuelve el último bloque en la cadena\n",
        "        return self.chain[-1]\n",
        "\n",
        "    def add_block(self, new_data):\n",
        "        # Crea un nuevo bloque usando el último como referencia\n",
        "        last_block = self.get_latest_block()\n",
        "        new_block = Block(\n",
        "            index=last_block.index + 1,\n",
        "            timestamp=time.time(),\n",
        "            data=new_data,\n",
        "            previous_hash=last_block.hash\n",
        "        )\n",
        "        self.chain.append(new_block)\n",
        "\n",
        "    def is_chain_valid(self):\n",
        "        # Verifica si todos los hashes son correctos y si la cadena está bien conectada\n",
        "        for i in range(1, len(self.chain)):\n",
        "            current = self.chain[i]\n",
        "            previous = self.chain[i - 1]\n",
        "\n",
        "            # Verifica integridad del hash\n",
        "            if current.hash != current.calculate_hash():\n",
        "                print(\"Hash no coincide\")\n",
        "                return False\n",
        "\n",
        "            # Verifica encadenamiento\n",
        "            if current.previous_hash != previous.hash:\n",
        "                print(\"Enlace roto entre bloques\")\n",
        "                return False\n",
        "\n",
        "        return True"
      ],
      "metadata": {
        "id": "u7-6zoyxp1dC"
      },
      "execution_count": null,
      "outputs": []
    },
    {
      "cell_type": "code",
      "source": [
        "my_blockchain = Blockchain()\n",
        "\n",
        "# Agregar bloques\n",
        "\n",
        "my_blockchain.add_block(Block(1, time.time(), \"Primer bloque\", \"0\"))\n",
        "my_blockchain.add_block(Block(2, time.time(), \"Segundo bloque\", \"0\"))\n",
        "\n",
        "for block in my_blockchain.chain:\n",
        "  print(vars(block))"
      ],
      "metadata": {
        "colab": {
          "base_uri": "https://localhost:8080/"
        },
        "id": "iQJTGVK3p1fu",
        "outputId": "a7f684da-1eb9-4c49-b04f-e9ca3cf499ec"
      },
      "execution_count": null,
      "outputs": [
        {
          "output_type": "stream",
          "name": "stdout",
          "text": [
            "{'index': 0, 'timestamp': 1748048014.9614651, 'data': 'Genesis Block', 'previous_hash': '0', 'nonce': 0, 'hash': 'b598efb15fb68f3c9a2a24ec3343b5d041aeaf2ec49184b53d4c36594931121e'}\n",
            "{'index': 1, 'timestamp': 1748048014.9615905, 'data': <__main__.Block object at 0x78e50337e950>, 'previous_hash': 'b598efb15fb68f3c9a2a24ec3343b5d041aeaf2ec49184b53d4c36594931121e', 'nonce': 0, 'hash': '2472619c997b6dde1439e24fae544f5974df61f1aa87ea3f05c50bb15e9cf0a3'}\n",
            "{'index': 2, 'timestamp': 1748048014.961681, 'data': <__main__.Block object at 0x78e502ccf690>, 'previous_hash': '2472619c997b6dde1439e24fae544f5974df61f1aa87ea3f05c50bb15e9cf0a3', 'nonce': 0, 'hash': '601d5e5bd4376a34db14b66c0716dc0fed7222a522eef47a7b9dfd7d917c5de0'}\n"
          ]
        }
      ]
    },
    {
      "cell_type": "code",
      "source": [],
      "metadata": {
        "id": "VQrGqScJp1iv"
      },
      "execution_count": null,
      "outputs": []
    }
  ]
}